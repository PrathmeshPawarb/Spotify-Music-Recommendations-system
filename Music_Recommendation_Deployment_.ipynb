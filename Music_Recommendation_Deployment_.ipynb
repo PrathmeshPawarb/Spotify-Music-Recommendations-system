{
  "cells": [
    {
      "cell_type": "code",
      "execution_count": null,
      "metadata": {
        "colab": {
          "base_uri": "https://localhost:8080/"
        },
        "id": "i8H9Yw0MsLjF",
        "outputId": "9048694e-97e7-442c-cae4-907e0303ecd9"
      },
      "outputs": [
        {
          "name": "stdout",
          "output_type": "stream",
          "text": [
            "Requirement already satisfied: annoy in /usr/local/lib/python3.10/dist-packages (1.17.3)\n"
          ]
        }
      ],
      "source": [
        "!pip install annoy"
      ]
    },
    {
      "cell_type": "code",
      "execution_count": null,
      "metadata": {
        "id": "2VXeaPYrd9Zm"
      },
      "outputs": [],
      "source": [
        "! pip install streamlit -q"
      ]
    },
    {
      "cell_type": "code",
      "execution_count": null,
      "metadata": {
        "colab": {
          "base_uri": "https://localhost:8080/"
        },
        "id": "MuogriCXXR8J",
        "outputId": "00440596-3bc5-469d-b9a1-53c6e2ea836a"
      },
      "outputs": [
        {
          "name": "stdout",
          "output_type": "stream",
          "text": [
            "35.227.169.64\n"
          ]
        }
      ],
      "source": [
        "! wget -q -O - ipv4.icanhazip.com"
      ]
    },
    {
      "cell_type": "code",
      "execution_count": null,
      "metadata": {
        "colab": {
          "background_save": true,
          "base_uri": "https://localhost:8080/"
        },
        "id": "rjL22S39zGw2",
        "outputId": "2cbf40a7-e91c-47c1-825f-9f6044d5c51d"
      },
      "outputs": [
        {
          "name": "stdout",
          "output_type": "stream",
          "text": [
            "[..................] - fetchMetadata: sill resolveWithNewModule localtunnel@2.0\u001b[0m\u001b[K\n",
            "Collecting usage statistics. To deactivate, set browser.gatherUsageStats to False.\n",
            "\u001b[0m\n",
            "\u001b[0m\n",
            "\u001b[34m\u001b[1m  You can now view your Streamlit app in your browser.\u001b[0m\n",
            "\u001b[0m\n",
            "\u001b[34m  Network URL: \u001b[0m\u001b[1mhttp://172.28.0.12:8501\u001b[0m\n",
            "\u001b[34m  External URL: \u001b[0m\u001b[1mhttp://35.227.169.64:8501\u001b[0m\n",
            "\u001b[0m\n",
            "\u001b[K\u001b[?25hnpx: installed 22 in 3.534s\n",
            "your url is: https://some-waves-behave.loca.lt\n",
            "2023-12-13 15:45:01.640 Uncaught app exception\n",
            "Traceback (most recent call last):\n",
            "  File \"/usr/local/lib/python3.10/dist-packages/streamlit/runtime/scriptrunner/script_runner.py\", line 534, in _run_script\n",
            "    exec(code, module.__dict__)\n",
            "  File \"/content/app.py\", line 64, in <module>\n",
            "    main()\n",
            "  File \"/content/app.py\", line 43, in main\n",
            "    st.markdown(page_bg_img, unsafe_allow_html=True)\n",
            "NameError: name 'page_bg_img' is not defined\n",
            "2023-12-13 15:47:58.621 Uncaught app exception\n",
            "Traceback (most recent call last):\n",
            "  File \"/usr/local/lib/python3.10/dist-packages/streamlit/runtime/scriptrunner/script_runner.py\", line 534, in _run_script\n",
            "    exec(code, module.__dict__)\n",
            "  File \"/content/app.py\", line 64, in <module>\n",
            "    main()\n",
            "  File \"/content/app.py\", line 43, in main\n",
            "    st.markdown(page_bg_img, unsafe_allow_html=True)\n",
            "NameError: name 'page_bg_img' is not defined\n",
            "2023-12-13 15:48:49.897 Uncaught app exception\n",
            "Traceback (most recent call last):\n",
            "  File \"/usr/local/lib/python3.10/dist-packages/streamlit/runtime/scriptrunner/script_runner.py\", line 534, in _run_script\n",
            "    exec(code, module.__dict__)\n",
            "  File \"/content/app.py\", line 64, in <module>\n",
            "    main()\n",
            "  File \"/content/app.py\", line 43, in main\n",
            "    st.markdown(page_bg_img, unsafe_allow_html=True)\n",
            "NameError: name 'page_bg_img' is not defined\n",
            "2023-12-13 15:50:23.896 Uncaught app exception\n",
            "Traceback (most recent call last):\n",
            "  File \"/usr/local/lib/python3.10/dist-packages/streamlit/runtime/legacy_caching/caching.py\", line 679, in get_or_create_cached_value\n",
            "    return_value = _read_from_cache(\n",
            "  File \"/usr/local/lib/python3.10/dist-packages/streamlit/runtime/legacy_caching/caching.py\", line 436, in _read_from_cache\n",
            "    raise e\n",
            "  File \"/usr/local/lib/python3.10/dist-packages/streamlit/runtime/legacy_caching/caching.py\", line 421, in _read_from_cache\n",
            "    return _read_from_mem_cache(\n",
            "  File \"/usr/local/lib/python3.10/dist-packages/streamlit/runtime/legacy_caching/caching.py\", line 338, in _read_from_mem_cache\n",
            "    raise CacheKeyNotFoundError(\"Key not found in mem cache\")\n",
            "streamlit.runtime.legacy_caching.caching.CacheKeyNotFoundError: Key not found in mem cache\n",
            "\n",
            "During handling of the above exception, another exception occurred:\n",
            "\n",
            "Traceback (most recent call last):\n",
            "  File \"/usr/local/lib/python3.10/dist-packages/streamlit/runtime/scriptrunner/script_runner.py\", line 534, in _run_script\n",
            "    exec(code, module.__dict__)\n",
            "  File \"/content/app.py\", line 63, in <module>\n",
            "    set_png_as_page_bg('background.png')\n",
            "  File \"/content/app.py\", line 50, in set_png_as_page_bg\n",
            "    bin_str = get_base64_of_bin_file(png_file)\n",
            "  File \"/usr/local/lib/python3.10/dist-packages/streamlit/runtime/legacy_caching/caching.py\", line 716, in wrapped_func\n",
            "    return get_or_create_cached_value()\n",
            "  File \"/usr/local/lib/python3.10/dist-packages/streamlit/runtime/legacy_caching/caching.py\", line 697, in get_or_create_cached_value\n",
            "    return_value = non_optional_func(*args, **kwargs)\n",
            "  File \"/content/app.py\", line 45, in get_base64_of_bin_file\n",
            "    with open(bin_file, 'rb') as f:\n",
            "FileNotFoundError: [Errno 2] No such file or directory: 'background.png'\n",
            "2023-12-13 15:51:32.822 Uncaught app exception\n",
            "Traceback (most recent call last):\n",
            "  File \"/usr/local/lib/python3.10/dist-packages/streamlit/runtime/legacy_caching/caching.py\", line 679, in get_or_create_cached_value\n",
            "    return_value = _read_from_cache(\n",
            "  File \"/usr/local/lib/python3.10/dist-packages/streamlit/runtime/legacy_caching/caching.py\", line 436, in _read_from_cache\n",
            "    raise e\n",
            "  File \"/usr/local/lib/python3.10/dist-packages/streamlit/runtime/legacy_caching/caching.py\", line 421, in _read_from_cache\n",
            "    return _read_from_mem_cache(\n",
            "  File \"/usr/local/lib/python3.10/dist-packages/streamlit/runtime/legacy_caching/caching.py\", line 338, in _read_from_mem_cache\n",
            "    raise CacheKeyNotFoundError(\"Key not found in mem cache\")\n",
            "streamlit.runtime.legacy_caching.caching.CacheKeyNotFoundError: Key not found in mem cache\n",
            "\n",
            "During handling of the above exception, another exception occurred:\n",
            "\n",
            "Traceback (most recent call last):\n",
            "  File \"/usr/local/lib/python3.10/dist-packages/streamlit/runtime/scriptrunner/script_runner.py\", line 534, in _run_script\n",
            "    exec(code, module.__dict__)\n",
            "  File \"/content/app.py\", line 63, in <module>\n",
            "    set_png_as_page_bg('background.png')\n",
            "  File \"/content/app.py\", line 50, in set_png_as_page_bg\n",
            "    bin_str = get_base64_of_bin_file(png_file)\n",
            "  File \"/usr/local/lib/python3.10/dist-packages/streamlit/runtime/legacy_caching/caching.py\", line 716, in wrapped_func\n",
            "    return get_or_create_cached_value()\n",
            "  File \"/usr/local/lib/python3.10/dist-packages/streamlit/runtime/legacy_caching/caching.py\", line 697, in get_or_create_cached_value\n",
            "    return_value = non_optional_func(*args, **kwargs)\n",
            "  File \"/content/app.py\", line 45, in get_base64_of_bin_file\n",
            "    with open(bin_file, 'rb') as f:\n",
            "FileNotFoundError: [Errno 2] No such file or directory: 'background.png'\n",
            "2023-12-13 15:53:41.699 Uncaught app exception\n",
            "Traceback (most recent call last):\n",
            "  File \"/usr/local/lib/python3.10/dist-packages/streamlit/runtime/legacy_caching/caching.py\", line 679, in get_or_create_cached_value\n",
            "    return_value = _read_from_cache(\n",
            "  File \"/usr/local/lib/python3.10/dist-packages/streamlit/runtime/legacy_caching/caching.py\", line 436, in _read_from_cache\n",
            "    raise e\n",
            "  File \"/usr/local/lib/python3.10/dist-packages/streamlit/runtime/legacy_caching/caching.py\", line 421, in _read_from_cache\n",
            "    return _read_from_mem_cache(\n",
            "  File \"/usr/local/lib/python3.10/dist-packages/streamlit/runtime/legacy_caching/caching.py\", line 338, in _read_from_mem_cache\n",
            "    raise CacheKeyNotFoundError(\"Key not found in mem cache\")\n",
            "streamlit.runtime.legacy_caching.caching.CacheKeyNotFoundError: Key not found in mem cache\n",
            "\n",
            "During handling of the above exception, another exception occurred:\n",
            "\n",
            "Traceback (most recent call last):\n",
            "  File \"/usr/local/lib/python3.10/dist-packages/streamlit/runtime/scriptrunner/script_runner.py\", line 534, in _run_script\n",
            "    exec(code, module.__dict__)\n",
            "  File \"/content/app.py\", line 63, in <module>\n",
            "    set_png_as_page_bg('background.png')\n",
            "  File \"/content/app.py\", line 50, in set_png_as_page_bg\n",
            "    bin_str = get_base64_of_bin_file(png_file)\n",
            "  File \"/usr/local/lib/python3.10/dist-packages/streamlit/runtime/legacy_caching/caching.py\", line 716, in wrapped_func\n",
            "    return get_or_create_cached_value()\n",
            "  File \"/usr/local/lib/python3.10/dist-packages/streamlit/runtime/legacy_caching/caching.py\", line 697, in get_or_create_cached_value\n",
            "    return_value = non_optional_func(*args, **kwargs)\n",
            "  File \"/content/app.py\", line 45, in get_base64_of_bin_file\n",
            "    with open(bin_file, 'rb') as f:\n",
            "FileNotFoundError: [Errno 2] No such file or directory: 'background.png'\n"
          ]
        }
      ],
      "source": [
        "!streamlit run app.py & npx localtunnel --port 8501"
      ]
    },
    {
      "cell_type": "code",
      "execution_count": null,
      "metadata": {
        "id": "dnoqE4aPX7w8"
      },
      "outputs": [],
      "source": [
        "# app.py file code\n",
        "\n",
        "\n",
        "'''\n",
        "import pandas as pd\n",
        "import numpy as np\n",
        "import streamlit as st\n",
        "from streamlit.components.v1 import html as html_component\n",
        "\n",
        "df = pd.read_csv('/content/spotify_tracks')\n",
        "\n",
        "# Standardize numerical features\n",
        "from sklearn.preprocessing import StandardScaler\n",
        "sc = StandardScaler()\n",
        "df_numeric = df.select_dtypes(include=['float64', 'int64'])\n",
        "\n",
        "# Standardize numerical features\n",
        "df_numeric = pd.DataFrame(sc.fit_transform(df_numeric), columns=df_numeric.columns)\n",
        "df_numeric = df_numeric.round(2)\n",
        "\n",
        "# Convert the DataFrame to a sparse matrix\n",
        "from scipy.sparse import csr_matrix\n",
        "sparse_matrix = csr_matrix(df_numeric.values)\n",
        "\n",
        "\n",
        "from annoy import AnnoyIndex\n",
        "\n",
        "# Build Annoy Index\n",
        "annoy_index = AnnoyIndex(sparse_matrix.shape[1], 'angular')\n",
        "for i in range(sparse_matrix.shape[0]):\n",
        "    vector = sparse_matrix.getrow(i).toarray().flatten()\n",
        "    annoy_index.add_item(i, vector)\n",
        "# decideing trees\n",
        "annoy_index.build(75)\n",
        "\n",
        "def recommend_tracks_annoy(track_name, annoy_index, df, num_recommendations=5):\n",
        "    track_index = df[df['track_name'] == track_name].index[0]\n",
        "    num_recommendations = min(num_recommendations, annoy_index.get_n_items())  # Limit recommendations to index size\n",
        "    related_tracks_indices = annoy_index.get_nns_by_item(track_index, num_recommendations)\n",
        "    recommendations = df.iloc[related_tracks_indices][['track_name', 'artists','track_genre','popularity']]\n",
        "    return recommendations\n",
        "\n",
        "\n",
        "\n",
        "# Streamlit app\n",
        "def main():\n",
        "\n",
        "\n",
        "   # Header\n",
        "    st.title(\"Spotify Track Recommender\")\n",
        "\n",
        "   # Sidebar\n",
        "    st.sidebar.header(\"User Input\")\n",
        "\n",
        "    # Track selection dropdown\n",
        "    selected_track = st.sidebar.selectbox(\"Select a Track\", df['track_name'])\n",
        "\n",
        "    # Number of recommendations\n",
        "    num_recommendations = st.sidebar.slider(\"Number of Recommendations\", min_value=1, max_value=10, value=5)\n",
        "\n",
        "    if st.sidebar.button(\"Get Recommendations\"):\n",
        "        recommendations_annoy = recommend_tracks_annoy(selected_track, annoy_index, df, num_recommendations)\n",
        "\n",
        "        # Display recommendations\n",
        "        st.subheader(f\"Recommendations for track '{selected_track}':\")\n",
        "        st.table(recommendations_annoy)\n",
        "\n",
        "if __name__ == \"__main__\":\n",
        "    main()\n",
        "\n",
        "'''\n"
      ]
    }
  ],
  "metadata": {
    "colab": {
      "provenance": []
    },
    "kernelspec": {
      "display_name": "Python 3",
      "name": "python3"
    },
    "language_info": {
      "name": "python"
    }
  },
  "nbformat": 4,
  "nbformat_minor": 0
}